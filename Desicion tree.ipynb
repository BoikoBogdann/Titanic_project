{
 "cells": [
  {
   "cell_type": "code",
   "execution_count": 45,
   "id": "63dadb40",
   "metadata": {},
   "outputs": [],
   "source": [
    "import pandas as pd\n",
    "import numpy as np\n",
    "import seaborn as sn\n",
    "import matplotlib.pyplot as plt\n",
    "from sklearn import tree\n",
    "%matplotlib inline"
   ]
  },
  {
   "cell_type": "code",
   "execution_count": 46,
   "id": "bba5ec62",
   "metadata": {},
   "outputs": [],
   "source": [
    "test_data = pd.read_csv(\"test.csv\")\n",
    "train_data = pd.read_csv(\"train.csv\")\n",
    "keys = pd.read_csv(\"gender_submission.csv\")"
   ]
  },
  {
   "cell_type": "code",
   "execution_count": 47,
   "id": "9a2e9dfe",
   "metadata": {},
   "outputs": [
    {
     "data": {
      "text/plain": [
       "28.0"
      ]
     },
     "execution_count": 47,
     "metadata": {},
     "output_type": "execute_result"
    }
   ],
   "source": [
    "test = pd.DataFrame(test_data)\n",
    "train = pd.DataFrame(train_data)\n",
    "key = pd.DataFrame(keys)\n",
    "train.head()\n",
    "train.describe()\n",
    "train['Age'].median()"
   ]
  },
  {
   "cell_type": "code",
   "execution_count": 48,
   "id": "1ee4d4bb",
   "metadata": {},
   "outputs": [],
   "source": [
    "test_median = test['Age'].median()"
   ]
  },
  {
   "cell_type": "markdown",
   "id": "fdef2dd8",
   "metadata": {},
   "source": [
    "# Cleaning and exploring data"
   ]
  },
  {
   "cell_type": "code",
   "execution_count": 49,
   "id": "d8ddef13",
   "metadata": {},
   "outputs": [
    {
     "name": "stdout",
     "output_type": "stream",
     "text": [
      "PassengerId    False\n",
      "Survived       False\n",
      "Pclass         False\n",
      "Name           False\n",
      "Sex            False\n",
      "Age             True\n",
      "SibSp          False\n",
      "Parch          False\n",
      "Ticket         False\n",
      "Fare           False\n",
      "Cabin           True\n",
      "Embarked        True\n",
      "dtype: bool\n"
     ]
    },
    {
     "data": {
      "text/html": [
       "<div>\n",
       "<style scoped>\n",
       "    .dataframe tbody tr th:only-of-type {\n",
       "        vertical-align: middle;\n",
       "    }\n",
       "\n",
       "    .dataframe tbody tr th {\n",
       "        vertical-align: top;\n",
       "    }\n",
       "\n",
       "    .dataframe thead th {\n",
       "        text-align: right;\n",
       "    }\n",
       "</style>\n",
       "<table border=\"1\" class=\"dataframe\">\n",
       "  <thead>\n",
       "    <tr style=\"text-align: right;\">\n",
       "      <th></th>\n",
       "      <th>PassengerId</th>\n",
       "      <th>Survived</th>\n",
       "      <th>Pclass</th>\n",
       "      <th>Name</th>\n",
       "      <th>Sex</th>\n",
       "      <th>Age</th>\n",
       "      <th>SibSp</th>\n",
       "      <th>Parch</th>\n",
       "      <th>Fare</th>\n",
       "    </tr>\n",
       "  </thead>\n",
       "  <tbody>\n",
       "    <tr>\n",
       "      <th>0</th>\n",
       "      <td>1</td>\n",
       "      <td>0</td>\n",
       "      <td>3</td>\n",
       "      <td>Braund, Mr. Owen Harris</td>\n",
       "      <td>male</td>\n",
       "      <td>22.0</td>\n",
       "      <td>1</td>\n",
       "      <td>0</td>\n",
       "      <td>7.2500</td>\n",
       "    </tr>\n",
       "    <tr>\n",
       "      <th>1</th>\n",
       "      <td>2</td>\n",
       "      <td>1</td>\n",
       "      <td>1</td>\n",
       "      <td>Cumings, Mrs. John Bradley (Florence Briggs Th...</td>\n",
       "      <td>female</td>\n",
       "      <td>38.0</td>\n",
       "      <td>1</td>\n",
       "      <td>0</td>\n",
       "      <td>71.2833</td>\n",
       "    </tr>\n",
       "    <tr>\n",
       "      <th>2</th>\n",
       "      <td>3</td>\n",
       "      <td>1</td>\n",
       "      <td>3</td>\n",
       "      <td>Heikkinen, Miss. Laina</td>\n",
       "      <td>female</td>\n",
       "      <td>26.0</td>\n",
       "      <td>0</td>\n",
       "      <td>0</td>\n",
       "      <td>7.9250</td>\n",
       "    </tr>\n",
       "    <tr>\n",
       "      <th>3</th>\n",
       "      <td>4</td>\n",
       "      <td>1</td>\n",
       "      <td>1</td>\n",
       "      <td>Futrelle, Mrs. Jacques Heath (Lily May Peel)</td>\n",
       "      <td>female</td>\n",
       "      <td>35.0</td>\n",
       "      <td>1</td>\n",
       "      <td>0</td>\n",
       "      <td>53.1000</td>\n",
       "    </tr>\n",
       "    <tr>\n",
       "      <th>4</th>\n",
       "      <td>5</td>\n",
       "      <td>0</td>\n",
       "      <td>3</td>\n",
       "      <td>Allen, Mr. William Henry</td>\n",
       "      <td>male</td>\n",
       "      <td>35.0</td>\n",
       "      <td>0</td>\n",
       "      <td>0</td>\n",
       "      <td>8.0500</td>\n",
       "    </tr>\n",
       "  </tbody>\n",
       "</table>\n",
       "</div>"
      ],
      "text/plain": [
       "   PassengerId  Survived  Pclass  \\\n",
       "0            1         0       3   \n",
       "1            2         1       1   \n",
       "2            3         1       3   \n",
       "3            4         1       1   \n",
       "4            5         0       3   \n",
       "\n",
       "                                                Name     Sex   Age  SibSp  \\\n",
       "0                            Braund, Mr. Owen Harris    male  22.0      1   \n",
       "1  Cumings, Mrs. John Bradley (Florence Briggs Th...  female  38.0      1   \n",
       "2                             Heikkinen, Miss. Laina  female  26.0      0   \n",
       "3       Futrelle, Mrs. Jacques Heath (Lily May Peel)  female  35.0      1   \n",
       "4                           Allen, Mr. William Henry    male  35.0      0   \n",
       "\n",
       "   Parch     Fare  \n",
       "0      0   7.2500  \n",
       "1      0  71.2833  \n",
       "2      0   7.9250  \n",
       "3      0  53.1000  \n",
       "4      0   8.0500  "
      ]
     },
     "execution_count": 49,
     "metadata": {},
     "output_type": "execute_result"
    }
   ],
   "source": [
    "print(pd.isna(train).any())\n",
    "\n",
    "train = train[train.Age.notnull()]\n",
    "\n",
    "train.count()\n",
    "\n",
    "train = train.drop(['Cabin', 'Embarked', 'Ticket'], axis = 1)\n",
    "train\n",
    "train.head()"
   ]
  },
  {
   "cell_type": "code",
   "execution_count": 50,
   "id": "f9367fcd",
   "metadata": {},
   "outputs": [
    {
     "data": {
      "text/html": [
       "<div>\n",
       "<style scoped>\n",
       "    .dataframe tbody tr th:only-of-type {\n",
       "        vertical-align: middle;\n",
       "    }\n",
       "\n",
       "    .dataframe tbody tr th {\n",
       "        vertical-align: top;\n",
       "    }\n",
       "\n",
       "    .dataframe thead th {\n",
       "        text-align: right;\n",
       "    }\n",
       "</style>\n",
       "<table border=\"1\" class=\"dataframe\">\n",
       "  <thead>\n",
       "    <tr style=\"text-align: right;\">\n",
       "      <th></th>\n",
       "      <th></th>\n",
       "      <th>PassengerId</th>\n",
       "      <th>Pclass</th>\n",
       "      <th>Name</th>\n",
       "      <th>Age</th>\n",
       "      <th>SibSp</th>\n",
       "      <th>Parch</th>\n",
       "      <th>Fare</th>\n",
       "    </tr>\n",
       "    <tr>\n",
       "      <th>Survived</th>\n",
       "      <th>Sex</th>\n",
       "      <th></th>\n",
       "      <th></th>\n",
       "      <th></th>\n",
       "      <th></th>\n",
       "      <th></th>\n",
       "      <th></th>\n",
       "      <th></th>\n",
       "    </tr>\n",
       "  </thead>\n",
       "  <tbody>\n",
       "    <tr>\n",
       "      <th rowspan=\"2\" valign=\"top\">0</th>\n",
       "      <th>female</th>\n",
       "      <td>64</td>\n",
       "      <td>64</td>\n",
       "      <td>64</td>\n",
       "      <td>64</td>\n",
       "      <td>64</td>\n",
       "      <td>64</td>\n",
       "      <td>64</td>\n",
       "    </tr>\n",
       "    <tr>\n",
       "      <th>male</th>\n",
       "      <td>360</td>\n",
       "      <td>360</td>\n",
       "      <td>360</td>\n",
       "      <td>360</td>\n",
       "      <td>360</td>\n",
       "      <td>360</td>\n",
       "      <td>360</td>\n",
       "    </tr>\n",
       "    <tr>\n",
       "      <th rowspan=\"2\" valign=\"top\">1</th>\n",
       "      <th>female</th>\n",
       "      <td>197</td>\n",
       "      <td>197</td>\n",
       "      <td>197</td>\n",
       "      <td>197</td>\n",
       "      <td>197</td>\n",
       "      <td>197</td>\n",
       "      <td>197</td>\n",
       "    </tr>\n",
       "    <tr>\n",
       "      <th>male</th>\n",
       "      <td>93</td>\n",
       "      <td>93</td>\n",
       "      <td>93</td>\n",
       "      <td>93</td>\n",
       "      <td>93</td>\n",
       "      <td>93</td>\n",
       "      <td>93</td>\n",
       "    </tr>\n",
       "  </tbody>\n",
       "</table>\n",
       "</div>"
      ],
      "text/plain": [
       "                 PassengerId  Pclass  Name  Age  SibSp  Parch  Fare\n",
       "Survived Sex                                                       \n",
       "0        female           64      64    64   64     64     64    64\n",
       "         male            360     360   360  360    360    360   360\n",
       "1        female          197     197   197  197    197    197   197\n",
       "         male             93      93    93   93     93     93    93"
      ]
     },
     "execution_count": 50,
     "metadata": {},
     "output_type": "execute_result"
    }
   ],
   "source": [
    "train.groupby(['Survived','Sex']).count()"
   ]
  },
  {
   "cell_type": "markdown",
   "id": "78bc4330",
   "metadata": {},
   "source": [
    "## Create groups for age column"
   ]
  },
  {
   "cell_type": "code",
   "execution_count": 51,
   "id": "bf1edc1f",
   "metadata": {},
   "outputs": [],
   "source": [
    "\n",
    "conditions = [(train['Age'] <= 10), \n",
    "              (train['Age'] >10) & (train['Age']<= 20),\n",
    "              (train['Age'] >20) & (train['Age']<= 30),\n",
    "              (train['Age'] >30) & (train['Age']<= 40),\n",
    "              (train['Age'] >40) & (train['Age']<= 50),\n",
    "              (train['Age'] >50) & (train['Age']<= 60),\n",
    "              (train['Age'] >60) & (train['Age']<= 70),\n",
    "              (train['Age'] >70) & (train['Age']<= 80),\n",
    "              (train['Age'] >80)] \n",
    "values = ['<=10', '11-20', '21-30', '31-40', '41-50', '51-60', '61-70', '71-80', '>80']\n",
    "train['age_categ'] = np.select(conditions, values)\n"
   ]
  },
  {
   "cell_type": "markdown",
   "id": "3f26d039",
   "metadata": {},
   "source": [
    "# Create groups for fair column"
   ]
  },
  {
   "cell_type": "code",
   "execution_count": 52,
   "id": "511d0dde",
   "metadata": {},
   "outputs": [],
   "source": [
    "conditions_fares = [(train['Fare'] <= 40), \n",
    "                   (train['Fare'] >40) & (train['Fare']<= 80),\n",
    "                   (train['Fare'] >80)]\n",
    "values_fares = ['<=40', '40-80', '>80']\n",
    "train['fares_categ'] = np.select(conditions_fares, values_fares)"
   ]
  },
  {
   "cell_type": "markdown",
   "id": "7d718382",
   "metadata": {},
   "source": [
    "# Create column with name alias"
   ]
  },
  {
   "cell_type": "code",
   "execution_count": 53,
   "id": "e1fe2057",
   "metadata": {},
   "outputs": [],
   "source": [
    "train['name_title'] = train.Name.apply(lambda x : x.split(',')[1].split('.')[0].strip())\n",
    "\n",
    "train['name_title'].unique()\n",
    "\n",
    "conditions_name = [(train['name_title'] == 'Mrs'),\n",
    "                   (train['name_title'] == 'Miss'),\n",
    "                   (train['name_title'] == 'Master'),\n",
    "                   (train['name_title'] == 'Mr'),\n",
    "                   (train['name_title'] != 'Mrs') & (train['name_title'] != 'Miss') & (train['name_title'] != 'Master') & (train['name_title'] != 'Mr') ]\n",
    "values_name = ['Mrs', 'Miss', 'Master', 'Mr', 'Other']\n",
    "\n",
    "train['name_title'] = np.select(conditions_name, values_name)"
   ]
  },
  {
   "cell_type": "markdown",
   "id": "af6ca7e6",
   "metadata": {},
   "source": [
    "### Replace median fare instead 0 values"
   ]
  },
  {
   "cell_type": "code",
   "execution_count": 96,
   "id": "526e64d0",
   "metadata": {},
   "outputs": [
    {
     "data": {
      "text/html": [
       "<div>\n",
       "<style scoped>\n",
       "    .dataframe tbody tr th:only-of-type {\n",
       "        vertical-align: middle;\n",
       "    }\n",
       "\n",
       "    .dataframe tbody tr th {\n",
       "        vertical-align: top;\n",
       "    }\n",
       "\n",
       "    .dataframe thead th {\n",
       "        text-align: right;\n",
       "    }\n",
       "</style>\n",
       "<table border=\"1\" class=\"dataframe\">\n",
       "  <thead>\n",
       "    <tr style=\"text-align: right;\">\n",
       "      <th></th>\n",
       "      <th>Mean</th>\n",
       "    </tr>\n",
       "    <tr>\n",
       "      <th>Pclass</th>\n",
       "      <th></th>\n",
       "    </tr>\n",
       "  </thead>\n",
       "  <tbody>\n",
       "    <tr>\n",
       "      <th>1</th>\n",
       "      <td>87.961582</td>\n",
       "    </tr>\n",
       "    <tr>\n",
       "      <th>2</th>\n",
       "      <td>21.471556</td>\n",
       "    </tr>\n",
       "    <tr>\n",
       "      <th>3</th>\n",
       "      <td>13.229435</td>\n",
       "    </tr>\n",
       "  </tbody>\n",
       "</table>\n",
       "</div>"
      ],
      "text/plain": [
       "             Mean\n",
       "Pclass           \n",
       "1       87.961582\n",
       "2       21.471556\n",
       "3       13.229435"
      ]
     },
     "execution_count": 96,
     "metadata": {},
     "output_type": "execute_result"
    }
   ],
   "source": [
    "conditions_name = [(train['Pclass'] == 1),\n",
    "                   (train['Pclass'] == 2),\n",
    "                   (train['Pclass'] == 3)]\n",
    "\n",
    "#subset_fare = train.groupby('Pclass').agg(Mean = ('Fare', 'mean'))\n",
    "subset_fare.head()\n",
    "values_name = subset_fare['Mean']\n"
   ]
  },
  {
   "cell_type": "markdown",
   "id": "4f7aaac5",
   "metadata": {},
   "source": [
    "# Exploring data"
   ]
  },
  {
   "cell_type": "code",
   "execution_count": 54,
   "id": "aae6481c",
   "metadata": {},
   "outputs": [
    {
     "name": "stdout",
     "output_type": "stream",
     "text": [
      "Count_of_mens: Survived    453\n",
      "Age         453\n",
      "Sex         453\n",
      "dtype: int64\n",
      "Count_of_womans: Survived    261\n",
      "Age         261\n",
      "Sex         261\n",
      "dtype: int64\n"
     ]
    }
   ],
   "source": [
    "subset_1 = train[['Survived','Age','Sex']]\n",
    "mens = subset_1[subset_1.Sex == 'male'].count()\n",
    "womans = subset_1[subset_1.Sex == 'female'].count()\n",
    "\n",
    "alive_people = train[train.Survived == 1]\n",
    "death_people = train[train.Survived == 0]\n",
    "\n",
    "count_alive = alive_people['Age'].count()\n",
    "count_death = death_people['Age'].count()\n",
    "prcent_of_ailived = (count_alive/train['Age'].count())*100\n",
    "prcent_of_death = (count_death/train['Age'].count())*100\n",
    "\n",
    "male_alive = subset_1[(subset_1.Sex == 'male')&(subset_1.Survived == 1)]\n",
    "male_death = subset_1[(subset_1.Sex == 'male')&(subset_1.Survived == 0)]\n",
    "female_alive = subset_1[(subset_1.Sex == 'female')&(subset_1.Survived == 1)]\n",
    "female_death = subset_1[(subset_1.Sex == 'female')&(subset_1.Survived == 0)]\n",
    "\n",
    "print('Count_of_mens:',mens)\n",
    "print('Count_of_womans:',womans)\n"
   ]
  },
  {
   "cell_type": "code",
   "execution_count": 55,
   "id": "1ee23e3b",
   "metadata": {},
   "outputs": [
    {
     "name": "stdout",
     "output_type": "stream",
     "text": [
      "93\n"
     ]
    },
    {
     "data": {
      "text/plain": [
       "Text(0, 0.5, 'Count')"
      ]
     },
     "execution_count": 55,
     "metadata": {},
     "output_type": "execute_result"
    },
    {
     "data": {
      "image/png": "[encoded data removed]",
      "text/plain": [
       "<Figure size 1300x600 with 1 Axes>"
      ]
     },
     "metadata": {},
     "output_type": "display_data"
    }
   ],
   "source": [
    "# Distribution of men`s age hwo survived\n",
    "mens_survived = male_alive['Age'].count()\n",
    "print(mens_survived)\n",
    "\n",
    "plt.figure(figsize = (13,6))\n",
    "plt.hist( male_alive['Age'], ec = 'black', bins = 8)\n",
    "plt.title(f\"Distribution of mens who survived (Count = ({mens_survived}))\")\n",
    "plt.xlabel(\"Age\")\n",
    "plt.ylabel(\"Count\")\n"
   ]
  },
  {
   "cell_type": "code",
   "execution_count": 56,
   "id": "6a7684af",
   "metadata": {},
   "outputs": [
    {
     "data": {
      "text/plain": [
       "Text(0, 0.5, 'Count')"
      ]
     },
     "execution_count": 56,
     "metadata": {},
     "output_type": "execute_result"
    },
    {
     "data": {
      "image/png": "[encoded data removed]",
      "text/plain": [
       "<Figure size 1300x600 with 1 Axes>"
      ]
     },
     "metadata": {},
     "output_type": "display_data"
    }
   ],
   "source": [
    "# Distribution of men`s age hwo died\n",
    "mens_died = male_death['Age'].count()\n",
    "plt.figure(figsize = (13,6))\n",
    "plt.hist( male_death['Age'], ec = 'black', bins = 8)\n",
    "plt.title(f\"Distribution of mens who died (Count = ({mens_died}))\")\n",
    "plt.xlabel(\"Age\")\n",
    "plt.ylabel(\"Count\")"
   ]
  },
  {
   "cell_type": "code",
   "execution_count": 57,
   "id": "c98eea27",
   "metadata": {},
   "outputs": [
    {
     "data": {
      "text/plain": [
       "Text(0, 0.5, 'Count')"
      ]
     },
     "execution_count": 57,
     "metadata": {},
     "output_type": "execute_result"
    },
    {
     "data": {
      "image/png": "[encoded data removed]",
      "text/plain": [
       "<Figure size 1300x600 with 1 Axes>"
      ]
     },
     "metadata": {},
     "output_type": "display_data"
    }
   ],
   "source": [
    "# Distribution of woman`s age hwo died\n",
    "womans_died = female_death['Age'].count()\n",
    "plt.figure(figsize = (13,6))\n",
    "plt.hist( female_death['Age'], ec = 'black', bins = 8)\n",
    "plt.title(f\"Distribution of womans who died (Count = ({womans_died}))\")\n",
    "plt.xlabel(\"Age\")\n",
    "plt.ylabel(\"Count\")"
   ]
  },
  {
   "cell_type": "code",
   "execution_count": 58,
   "id": "8a06a43a",
   "metadata": {},
   "outputs": [
    {
     "data": {
      "text/plain": [
       "Text(0, 0.5, 'Count')"
      ]
     },
     "execution_count": 58,
     "metadata": {},
     "output_type": "execute_result"
    },
    {
     "data": {
      "image/png": "[encoded data removed]",
      "text/plain": [
       "<Figure size 1300x600 with 1 Axes>"
      ]
     },
     "metadata": {},
     "output_type": "display_data"
    }
   ],
   "source": [
    "# Distribution of woman`s age hwo survived\n",
    "womans_survived = female_alive['Age'].count()\n",
    "plt.figure(figsize = (13,6))\n",
    "plt.hist( female_alive['Age'], ec = 'black', bins = 8)\n",
    "plt.title(f\"Distribution of womans who survived (Count = ({womans_survived}))\")\n",
    "plt.xlabel(\"Age\")\n",
    "plt.ylabel(\"Count\")"
   ]
  },
  {
   "cell_type": "code",
   "execution_count": 59,
   "id": "ac92b088",
   "metadata": {},
   "outputs": [
    {
     "data": {
      "text/plain": [
       "Text(0.5, 1.0, 'Age distribution of people who alive (Percent_of_alived = (40.61624649859944) %)')"
      ]
     },
     "execution_count": 59,
     "metadata": {},
     "output_type": "execute_result"
    },
    {
     "data": {
      "image/png": "[encoded data removed]",
      "text/plain": [
       "<Figure size 1300x600 with 1 Axes>"
      ]
     },
     "metadata": {},
     "output_type": "display_data"
    }
   ],
   "source": [
    "plt.figure(figsize = (13,6))\n",
    "plt.hist(alive_people['Age'], ec = 'black', bins = 8)\n",
    "plt.title (f'Age distribution of people who alive (Percent_of_alived = ({prcent_of_ailived}) %)')"
   ]
  },
  {
   "cell_type": "code",
   "execution_count": 60,
   "id": "3191d3c0",
   "metadata": {},
   "outputs": [
    {
     "data": {
      "text/plain": [
       "Text(0.5, 1.0, 'Age distribution of people who death (Percent_of_death = (59.38375350140056) %)')"
      ]
     },
     "execution_count": 60,
     "metadata": {},
     "output_type": "execute_result"
    },
    {
     "data": {
      "image/png": "[encoded data removed]",
      "text/plain": [
       "<Figure size 1300x600 with 1 Axes>"
      ]
     },
     "metadata": {},
     "output_type": "display_data"
    }
   ],
   "source": [
    "plt.figure(figsize = (13,6))\n",
    "plt.hist(death_people['Age'], ec = 'black', bins = 8)\n",
    "plt.title (f'Age distribution of people who death (Percent_of_death = ({prcent_of_death}) %)')"
   ]
  },
  {
   "cell_type": "markdown",
   "id": "bfb5900f",
   "metadata": {},
   "source": [
    "# Exploring age of people who survived"
   ]
  },
  {
   "cell_type": "code",
   "execution_count": 61,
   "id": "79542976",
   "metadata": {},
   "outputs": [
    {
     "data": {
      "text/html": [
       "<div>\n",
       "<style scoped>\n",
       "    .dataframe tbody tr th:only-of-type {\n",
       "        vertical-align: middle;\n",
       "    }\n",
       "\n",
       "    .dataframe tbody tr th {\n",
       "        vertical-align: top;\n",
       "    }\n",
       "\n",
       "    .dataframe thead th {\n",
       "        text-align: right;\n",
       "    }\n",
       "</style>\n",
       "<table border=\"1\" class=\"dataframe\">\n",
       "  <thead>\n",
       "    <tr style=\"text-align: right;\">\n",
       "      <th></th>\n",
       "      <th>Total_count</th>\n",
       "      <th>Count_alive</th>\n",
       "      <th>Count_death</th>\n",
       "      <th>Percent_of_alive</th>\n",
       "    </tr>\n",
       "    <tr>\n",
       "      <th>age_categ</th>\n",
       "      <th></th>\n",
       "      <th></th>\n",
       "      <th></th>\n",
       "      <th></th>\n",
       "    </tr>\n",
       "  </thead>\n",
       "  <tbody>\n",
       "    <tr>\n",
       "      <th>11-20</th>\n",
       "      <td>115</td>\n",
       "      <td>44</td>\n",
       "      <td>71</td>\n",
       "      <td>0.382609</td>\n",
       "    </tr>\n",
       "    <tr>\n",
       "      <th>21-30</th>\n",
       "      <td>230</td>\n",
       "      <td>84</td>\n",
       "      <td>146</td>\n",
       "      <td>0.365217</td>\n",
       "    </tr>\n",
       "    <tr>\n",
       "      <th>31-40</th>\n",
       "      <td>155</td>\n",
       "      <td>69</td>\n",
       "      <td>86</td>\n",
       "      <td>0.445161</td>\n",
       "    </tr>\n",
       "    <tr>\n",
       "      <th>41-50</th>\n",
       "      <td>86</td>\n",
       "      <td>33</td>\n",
       "      <td>53</td>\n",
       "      <td>0.383721</td>\n",
       "    </tr>\n",
       "    <tr>\n",
       "      <th>51-60</th>\n",
       "      <td>42</td>\n",
       "      <td>17</td>\n",
       "      <td>25</td>\n",
       "      <td>0.404762</td>\n",
       "    </tr>\n",
       "    <tr>\n",
       "      <th>61-70</th>\n",
       "      <td>17</td>\n",
       "      <td>4</td>\n",
       "      <td>13</td>\n",
       "      <td>0.235294</td>\n",
       "    </tr>\n",
       "    <tr>\n",
       "      <th>71-80</th>\n",
       "      <td>5</td>\n",
       "      <td>1</td>\n",
       "      <td>4</td>\n",
       "      <td>0.200000</td>\n",
       "    </tr>\n",
       "    <tr>\n",
       "      <th>&lt;=10</th>\n",
       "      <td>64</td>\n",
       "      <td>38</td>\n",
       "      <td>26</td>\n",
       "      <td>0.593750</td>\n",
       "    </tr>\n",
       "  </tbody>\n",
       "</table>\n",
       "</div>"
      ],
      "text/plain": [
       "           Total_count  Count_alive  Count_death  Percent_of_alive\n",
       "age_categ                                                         \n",
       "11-20              115           44           71          0.382609\n",
       "21-30              230           84          146          0.365217\n",
       "31-40              155           69           86          0.445161\n",
       "41-50               86           33           53          0.383721\n",
       "51-60               42           17           25          0.404762\n",
       "61-70               17            4           13          0.235294\n",
       "71-80                5            1            4          0.200000\n",
       "<=10                64           38           26          0.593750"
      ]
     },
     "execution_count": 61,
     "metadata": {},
     "output_type": "execute_result"
    }
   ],
   "source": [
    "subset_2 = train[['age_categ', 'Age']].groupby('age_categ').agg(Total_count = ('Age', 'count'))\n",
    "#subset_2.head()\n",
    "\n",
    "subset_3 = alive_people[['age_categ', 'Age']].groupby('age_categ').agg(Count_alive = ('Age', 'count')) \n",
    "#subset_3.head()\n",
    "\n",
    "total_age_table = pd.merge(subset_2, subset_3, how = 'left',on = ['age_categ'])\n",
    "\n",
    "total_age_table['Count_death'] = total_age_table['Total_count']-total_age_table['Count_alive']\n",
    "\n",
    "total_age_table['Percent_of_alive'] = total_age_table['Count_alive']/total_age_table['Total_count']\n",
    "\n",
    "total_age_table.head(12)\n",
    "\n"
   ]
  },
  {
   "cell_type": "code",
   "execution_count": 62,
   "id": "0d9a464c",
   "metadata": {},
   "outputs": [
    {
     "data": {
      "text/plain": [
       "Text(0, 0.5, 'Category')"
      ]
     },
     "execution_count": 62,
     "metadata": {},
     "output_type": "execute_result"
    },
    {
     "data": {
      "image/png": "[encoded data removed]",
      "text/plain": [
       "<Figure size 1200x600 with 1 Axes>"
      ]
     },
     "metadata": {},
     "output_type": "display_data"
    }
   ],
   "source": [
    "plt.figure(figsize = (12,6))\n",
    "total_age_table['Percent_of_alive'].plot.barh()\n",
    "plt.xlabel('% of total who alive')\n",
    "plt.ylabel('Category')"
   ]
  },
  {
   "cell_type": "markdown",
   "id": "33425e8a",
   "metadata": {},
   "source": [
    "# Explore data about tickets class "
   ]
  },
  {
   "cell_type": "code",
   "execution_count": 63,
   "id": "458ab613",
   "metadata": {},
   "outputs": [],
   "source": [
    "subset_4 = alive_people.groupby('Pclass').agg(Count_of_alive_people = ('PassengerId', 'count'))\n",
    "\n",
    "subset_5 = train.groupby('Pclass').agg(Total_count = ('PassengerId', 'count'))\n",
    "\n",
    "p_class_table = pd.merge(subset_4, subset_5,on = ['Pclass'])\n",
    "p_class_table.head()\n",
    "\n",
    "p_class_table['Percent who survived'] = p_class_table['Count_of_alive_people']/p_class_table['Total_count']"
   ]
  },
  {
   "cell_type": "code",
   "execution_count": 64,
   "id": "0aadfc1f",
   "metadata": {},
   "outputs": [
    {
     "data": {
      "text/plain": [
       "Text(0, 0.5, 'Class of ticket')"
      ]
     },
     "execution_count": 64,
     "metadata": {},
     "output_type": "execute_result"
    },
    {
     "data": {
      "image/png": "[encoded data removed]",
      "text/plain": [
       "<Figure size 1200x600 with 1 Axes>"
      ]
     },
     "metadata": {},
     "output_type": "display_data"
    }
   ],
   "source": [
    "plt.figure(figsize = (12,6))\n",
    "p_class_table['Percent who survived'].plot.barh()\n",
    "plt.xlabel('% of total who alive')\n",
    "plt.ylabel('Class of ticket')"
   ]
  },
  {
   "cell_type": "markdown",
   "id": "778cb921",
   "metadata": {},
   "source": [
    "# Explore data about count of members in family"
   ]
  },
  {
   "cell_type": "code",
   "execution_count": 65,
   "id": "7a1b20f6",
   "metadata": {},
   "outputs": [],
   "source": [
    "subset_6 = train.groupby('SibSp').agg(Total_count = ('PassengerId', 'count'))\n",
    "\n",
    "subset_7 = alive_people.groupby('SibSp').agg(Survived_people = ('PassengerId', 'count'))\n",
    "\n",
    "sibsp_table = pd.merge(subset_6, subset_7, on = ['SibSp'])\n",
    "sibsp_table.head()\n",
    "\n",
    "sibsp_table['Percent who survived'] = sibsp_table['Survived_people']/sibsp_table['Total_count']"
   ]
  },
  {
   "cell_type": "code",
   "execution_count": 66,
   "id": "01fd7a1f",
   "metadata": {},
   "outputs": [
    {
     "data": {
      "text/plain": [
       "Text(0, 0.5, 'Class of ticket')"
      ]
     },
     "execution_count": 66,
     "metadata": {},
     "output_type": "execute_result"
    },
    {
     "data": {
      "image/png": "[encoded data removed]",
      "text/plain": [
       "<Figure size 1200x600 with 1 Axes>"
      ]
     },
     "metadata": {},
     "output_type": "display_data"
    }
   ],
   "source": [
    "plt.figure(figsize = (12,6))\n",
    "sibsp_table['Percent who survived'].plot.barh()\n",
    "plt.xlabel('% of total who alive')\n",
    "plt.ylabel('Class of ticket')"
   ]
  },
  {
   "cell_type": "markdown",
   "id": "dc94135f",
   "metadata": {},
   "source": [
    "# Explore data about fees"
   ]
  },
  {
   "cell_type": "code",
   "execution_count": 67,
   "id": "052cf4ea",
   "metadata": {},
   "outputs": [
    {
     "data": {
      "text/html": [
       "<div>\n",
       "<style scoped>\n",
       "    .dataframe tbody tr th:only-of-type {\n",
       "        vertical-align: middle;\n",
       "    }\n",
       "\n",
       "    .dataframe tbody tr th {\n",
       "        vertical-align: top;\n",
       "    }\n",
       "\n",
       "    .dataframe thead th {\n",
       "        text-align: right;\n",
       "    }\n",
       "</style>\n",
       "<table border=\"1\" class=\"dataframe\">\n",
       "  <thead>\n",
       "    <tr style=\"text-align: right;\">\n",
       "      <th></th>\n",
       "      <th>Total_count</th>\n",
       "      <th>Survived_people</th>\n",
       "      <th>Percent who survived</th>\n",
       "    </tr>\n",
       "    <tr>\n",
       "      <th>fares_categ</th>\n",
       "      <th></th>\n",
       "      <th></th>\n",
       "      <th></th>\n",
       "    </tr>\n",
       "  </thead>\n",
       "  <tbody>\n",
       "    <tr>\n",
       "      <th>40-80</th>\n",
       "      <td>85</td>\n",
       "      <td>50</td>\n",
       "      <td>0.588235</td>\n",
       "    </tr>\n",
       "    <tr>\n",
       "      <th>&lt;=40</th>\n",
       "      <td>562</td>\n",
       "      <td>188</td>\n",
       "      <td>0.334520</td>\n",
       "    </tr>\n",
       "    <tr>\n",
       "      <th>&gt;80</th>\n",
       "      <td>67</td>\n",
       "      <td>52</td>\n",
       "      <td>0.776119</td>\n",
       "    </tr>\n",
       "  </tbody>\n",
       "</table>\n",
       "</div>"
      ],
      "text/plain": [
       "             Total_count  Survived_people  Percent who survived\n",
       "fares_categ                                                    \n",
       "40-80                 85               50              0.588235\n",
       "<=40                 562              188              0.334520\n",
       ">80                   67               52              0.776119"
      ]
     },
     "execution_count": 67,
     "metadata": {},
     "output_type": "execute_result"
    }
   ],
   "source": [
    "subset_8 = train.groupby('fares_categ').agg(Total_count = ('PassengerId', 'count'))\n",
    "\n",
    "subset_9 = alive_people.groupby('fares_categ').agg(Survived_people = ('PassengerId', 'count'))\n",
    "\n",
    "fare_table = pd.merge(subset_8, subset_9, on = ['fares_categ'])\n",
    "\n",
    "fare_table['Percent who survived'] = fare_table['Survived_people']/fare_table['Total_count']\n",
    "\n",
    "fare_table.head()"
   ]
  },
  {
   "cell_type": "code",
   "execution_count": 68,
   "id": "a07e69da",
   "metadata": {},
   "outputs": [
    {
     "data": {
      "text/plain": [
       "Text(0, 0.5, 'Class of ticket')"
      ]
     },
     "execution_count": 68,
     "metadata": {},
     "output_type": "execute_result"
    },
    {
     "data": {
      "image/png": "[encoded data removed]",
      "text/plain": [
       "<Figure size 1200x600 with 1 Axes>"
      ]
     },
     "metadata": {},
     "output_type": "display_data"
    }
   ],
   "source": [
    "plt.figure(figsize = (12,6))\n",
    "fare_table['Percent who survived'].plot.barh()\n",
    "plt.xlabel('% of total who alive')\n",
    "plt.ylabel('Class of ticket')"
   ]
  },
  {
   "cell_type": "markdown",
   "id": "18ec96fd",
   "metadata": {},
   "source": [
    "# Explore data about name alias"
   ]
  },
  {
   "cell_type": "code",
   "execution_count": 69,
   "id": "c6c092ea",
   "metadata": {},
   "outputs": [
    {
     "data": {
      "text/html": [
       "<div>\n",
       "<style scoped>\n",
       "    .dataframe tbody tr th:only-of-type {\n",
       "        vertical-align: middle;\n",
       "    }\n",
       "\n",
       "    .dataframe tbody tr th {\n",
       "        vertical-align: top;\n",
       "    }\n",
       "\n",
       "    .dataframe thead th {\n",
       "        text-align: right;\n",
       "    }\n",
       "</style>\n",
       "<table border=\"1\" class=\"dataframe\">\n",
       "  <thead>\n",
       "    <tr style=\"text-align: right;\">\n",
       "      <th></th>\n",
       "      <th>Total_count</th>\n",
       "      <th>Survived_people</th>\n",
       "      <th>Percent who survived</th>\n",
       "    </tr>\n",
       "    <tr>\n",
       "      <th>name_title</th>\n",
       "      <th></th>\n",
       "      <th></th>\n",
       "      <th></th>\n",
       "    </tr>\n",
       "  </thead>\n",
       "  <tbody>\n",
       "    <tr>\n",
       "      <th>Master</th>\n",
       "      <td>36</td>\n",
       "      <td>21</td>\n",
       "      <td>0.583333</td>\n",
       "    </tr>\n",
       "    <tr>\n",
       "      <th>Miss</th>\n",
       "      <td>146</td>\n",
       "      <td>105</td>\n",
       "      <td>0.719178</td>\n",
       "    </tr>\n",
       "    <tr>\n",
       "      <th>Mr</th>\n",
       "      <td>398</td>\n",
       "      <td>67</td>\n",
       "      <td>0.168342</td>\n",
       "    </tr>\n",
       "    <tr>\n",
       "      <th>Mrs</th>\n",
       "      <td>108</td>\n",
       "      <td>85</td>\n",
       "      <td>0.787037</td>\n",
       "    </tr>\n",
       "    <tr>\n",
       "      <th>Other</th>\n",
       "      <td>26</td>\n",
       "      <td>12</td>\n",
       "      <td>0.461538</td>\n",
       "    </tr>\n",
       "  </tbody>\n",
       "</table>\n",
       "</div>"
      ],
      "text/plain": [
       "            Total_count  Survived_people  Percent who survived\n",
       "name_title                                                    \n",
       "Master               36               21              0.583333\n",
       "Miss                146              105              0.719178\n",
       "Mr                  398               67              0.168342\n",
       "Mrs                 108               85              0.787037\n",
       "Other                26               12              0.461538"
      ]
     },
     "execution_count": 69,
     "metadata": {},
     "output_type": "execute_result"
    }
   ],
   "source": [
    "subset_10 = train.groupby('name_title').agg(Total_count = ('PassengerId', 'count'))\n",
    "\n",
    "subset_11 = alive_people.groupby('name_title').agg(Survived_people = ('PassengerId', 'count'))\n",
    "\n",
    "namealias_table = pd.merge(subset_10, subset_11, on = ['name_title'])\n",
    "\n",
    "namealias_table['Percent who survived'] = namealias_table['Survived_people']/namealias_table['Total_count']\n",
    "\n",
    "namealias_table.head()"
   ]
  },
  {
   "cell_type": "code",
   "execution_count": 70,
   "id": "540bd396",
   "metadata": {},
   "outputs": [
    {
     "data": {
      "text/plain": [
       "Text(0, 0.5, 'Class of ticket')"
      ]
     },
     "execution_count": 70,
     "metadata": {},
     "output_type": "execute_result"
    },
    {
     "data": {
      "image/png": "[encoded data removed]",
      "text/plain": [
       "<Figure size 1200x600 with 1 Axes>"
      ]
     },
     "metadata": {},
     "output_type": "display_data"
    }
   ],
   "source": [
    "plt.figure(figsize = (12,6))\n",
    "namealias_table['Percent who survived'].plot.barh()\n",
    "plt.xlabel('% of total who alive')\n",
    "plt.ylabel('Class of ticket')"
   ]
  },
  {
   "cell_type": "markdown",
   "id": "f33b40db",
   "metadata": {},
   "source": [
    "### Replacing text data"
   ]
  },
  {
   "cell_type": "code",
   "execution_count": 71,
   "id": "bf5a1af1",
   "metadata": {},
   "outputs": [
    {
     "name": "stdout",
     "output_type": "stream",
     "text": [
      "     Master  Miss  Mr  Mrs  Other\n",
      "0         0     0   1    0      0\n",
      "1         0     0   0    1      0\n",
      "2         0     1   0    0      0\n",
      "3         0     0   0    1      0\n",
      "4         0     0   1    0      0\n",
      "..      ...   ...  ..  ...    ...\n",
      "885       0     0   0    1      0\n",
      "886       0     0   0    0      1\n",
      "887       0     1   0    0      0\n",
      "889       0     0   1    0      0\n",
      "890       0     0   1    0      0\n",
      "\n",
      "[714 rows x 5 columns]\n",
      "     female  male\n",
      "0         0     1\n",
      "1         1     0\n",
      "2         1     0\n",
      "3         1     0\n",
      "4         0     1\n",
      "..      ...   ...\n",
      "885       1     0\n",
      "886       0     1\n",
      "887       1     0\n",
      "889       0     1\n",
      "890       0     1\n",
      "\n",
      "[714 rows x 2 columns]\n"
     ]
    }
   ],
   "source": [
    "NameColumnDummy = pd.get_dummies(train['name_title'])\n",
    "\n",
    "print(NameColumnDummy)\n",
    "\n",
    "SexColumnDummies = pd.get_dummies(train['Sex'])\n",
    "\n",
    "print(SexColumnDummies)\n"
   ]
  },
  {
   "cell_type": "code",
   "execution_count": 72,
   "id": "5c6c0dc4",
   "metadata": {},
   "outputs": [],
   "source": [
    "train_x = pd.concat([train, NameColumnDummy, SexColumnDummies], axis = 1)\n",
    "train_x.describe()\n",
    "train_x.head()\n",
    "\n",
    "train_x = train_x.drop(['Name', 'Sex', 'age_categ', 'fares_categ', 'name_title'] , axis = 1) "
   ]
  },
  {
   "cell_type": "markdown",
   "id": "cbd5824d",
   "metadata": {},
   "source": [
    "# Decision Tree"
   ]
  },
  {
   "cell_type": "code",
   "execution_count": 86,
   "id": "8d5e14eb",
   "metadata": {
    "scrolled": true
   },
   "outputs": [
    {
     "data": {
      "text/html": [
       "<div>\n",
       "<style scoped>\n",
       "    .dataframe tbody tr th:only-of-type {\n",
       "        vertical-align: middle;\n",
       "    }\n",
       "\n",
       "    .dataframe tbody tr th {\n",
       "        vertical-align: top;\n",
       "    }\n",
       "\n",
       "    .dataframe thead th {\n",
       "        text-align: right;\n",
       "    }\n",
       "</style>\n",
       "<table border=\"1\" class=\"dataframe\">\n",
       "  <thead>\n",
       "    <tr style=\"text-align: right;\">\n",
       "      <th></th>\n",
       "      <th>PassengerId</th>\n",
       "      <th>Pclass</th>\n",
       "      <th>Age</th>\n",
       "      <th>SibSp</th>\n",
       "      <th>Parch</th>\n",
       "      <th>Fare</th>\n",
       "      <th>Master</th>\n",
       "      <th>Miss</th>\n",
       "      <th>Mr</th>\n",
       "      <th>Mrs</th>\n",
       "      <th>Other</th>\n",
       "      <th>female</th>\n",
       "      <th>male</th>\n",
       "    </tr>\n",
       "  </thead>\n",
       "  <tbody>\n",
       "    <tr>\n",
       "      <th>0</th>\n",
       "      <td>1</td>\n",
       "      <td>3</td>\n",
       "      <td>22.0</td>\n",
       "      <td>1</td>\n",
       "      <td>0</td>\n",
       "      <td>7.2500</td>\n",
       "      <td>0</td>\n",
       "      <td>0</td>\n",
       "      <td>1</td>\n",
       "      <td>0</td>\n",
       "      <td>0</td>\n",
       "      <td>0</td>\n",
       "      <td>1</td>\n",
       "    </tr>\n",
       "    <tr>\n",
       "      <th>1</th>\n",
       "      <td>2</td>\n",
       "      <td>1</td>\n",
       "      <td>38.0</td>\n",
       "      <td>1</td>\n",
       "      <td>0</td>\n",
       "      <td>71.2833</td>\n",
       "      <td>0</td>\n",
       "      <td>0</td>\n",
       "      <td>0</td>\n",
       "      <td>1</td>\n",
       "      <td>0</td>\n",
       "      <td>1</td>\n",
       "      <td>0</td>\n",
       "    </tr>\n",
       "    <tr>\n",
       "      <th>2</th>\n",
       "      <td>3</td>\n",
       "      <td>3</td>\n",
       "      <td>26.0</td>\n",
       "      <td>0</td>\n",
       "      <td>0</td>\n",
       "      <td>7.9250</td>\n",
       "      <td>0</td>\n",
       "      <td>1</td>\n",
       "      <td>0</td>\n",
       "      <td>0</td>\n",
       "      <td>0</td>\n",
       "      <td>1</td>\n",
       "      <td>0</td>\n",
       "    </tr>\n",
       "    <tr>\n",
       "      <th>3</th>\n",
       "      <td>4</td>\n",
       "      <td>1</td>\n",
       "      <td>35.0</td>\n",
       "      <td>1</td>\n",
       "      <td>0</td>\n",
       "      <td>53.1000</td>\n",
       "      <td>0</td>\n",
       "      <td>0</td>\n",
       "      <td>0</td>\n",
       "      <td>1</td>\n",
       "      <td>0</td>\n",
       "      <td>1</td>\n",
       "      <td>0</td>\n",
       "    </tr>\n",
       "    <tr>\n",
       "      <th>4</th>\n",
       "      <td>5</td>\n",
       "      <td>3</td>\n",
       "      <td>35.0</td>\n",
       "      <td>0</td>\n",
       "      <td>0</td>\n",
       "      <td>8.0500</td>\n",
       "      <td>0</td>\n",
       "      <td>0</td>\n",
       "      <td>1</td>\n",
       "      <td>0</td>\n",
       "      <td>0</td>\n",
       "      <td>0</td>\n",
       "      <td>1</td>\n",
       "    </tr>\n",
       "  </tbody>\n",
       "</table>\n",
       "</div>"
      ],
      "text/plain": [
       "   PassengerId  Pclass   Age  SibSp  Parch     Fare  Master  Miss  Mr  Mrs  \\\n",
       "0            1       3  22.0      1      0   7.2500       0     0   1    0   \n",
       "1            2       1  38.0      1      0  71.2833       0     0   0    1   \n",
       "2            3       3  26.0      0      0   7.9250       0     1   0    0   \n",
       "3            4       1  35.0      1      0  53.1000       0     0   0    1   \n",
       "4            5       3  35.0      0      0   8.0500       0     0   1    0   \n",
       "\n",
       "   Other  female  male  \n",
       "0      0       0     1  \n",
       "1      0       1     0  \n",
       "2      0       1     0  \n",
       "3      0       1     0  \n",
       "4      0       0     1  "
      ]
     },
     "execution_count": 86,
     "metadata": {},
     "output_type": "execute_result"
    }
   ],
   "source": [
    "y_train = train_x['Survived']\n",
    "\n",
    "train_x = train_x.drop('Survived', axis = 1)\n",
    "\n",
    "train_x.head()"
   ]
  },
  {
   "cell_type": "code",
   "execution_count": 87,
   "id": "4b264189",
   "metadata": {},
   "outputs": [
    {
     "name": "stdout",
     "output_type": "stream",
     "text": [
      "0.8725490196078431\n"
     ]
    }
   ],
   "source": [
    "from sklearn import tree\n",
    "rf_clf = tree.DecisionTreeClassifier(max_depth=5)\n",
    "model = rf_clf.fit(train_x, y_train)\n",
    "print(rf_clf.score(train_x, y_train))"
   ]
  },
  {
   "cell_type": "markdown",
   "id": "a6d7b176",
   "metadata": {},
   "source": [
    "# Prepare test data"
   ]
  },
  {
   "cell_type": "code",
   "execution_count": 88,
   "id": "2824eaf5",
   "metadata": {},
   "outputs": [
    {
     "data": {
      "text/html": [
       "<div>\n",
       "<style scoped>\n",
       "    .dataframe tbody tr th:only-of-type {\n",
       "        vertical-align: middle;\n",
       "    }\n",
       "\n",
       "    .dataframe tbody tr th {\n",
       "        vertical-align: top;\n",
       "    }\n",
       "\n",
       "    .dataframe thead th {\n",
       "        text-align: right;\n",
       "    }\n",
       "</style>\n",
       "<table border=\"1\" class=\"dataframe\">\n",
       "  <thead>\n",
       "    <tr style=\"text-align: right;\">\n",
       "      <th></th>\n",
       "      <th>PassengerId</th>\n",
       "      <th>Pclass</th>\n",
       "      <th>Age</th>\n",
       "      <th>SibSp</th>\n",
       "      <th>Parch</th>\n",
       "      <th>Fare</th>\n",
       "    </tr>\n",
       "  </thead>\n",
       "  <tbody>\n",
       "    <tr>\n",
       "      <th>count</th>\n",
       "      <td>418.000000</td>\n",
       "      <td>418.000000</td>\n",
       "      <td>418.000000</td>\n",
       "      <td>418.000000</td>\n",
       "      <td>418.000000</td>\n",
       "      <td>417.000000</td>\n",
       "    </tr>\n",
       "    <tr>\n",
       "      <th>mean</th>\n",
       "      <td>1100.500000</td>\n",
       "      <td>2.265550</td>\n",
       "      <td>29.599282</td>\n",
       "      <td>0.447368</td>\n",
       "      <td>0.392344</td>\n",
       "      <td>35.627188</td>\n",
       "    </tr>\n",
       "    <tr>\n",
       "      <th>std</th>\n",
       "      <td>120.810458</td>\n",
       "      <td>0.841838</td>\n",
       "      <td>12.703770</td>\n",
       "      <td>0.896760</td>\n",
       "      <td>0.981429</td>\n",
       "      <td>55.907576</td>\n",
       "    </tr>\n",
       "    <tr>\n",
       "      <th>min</th>\n",
       "      <td>892.000000</td>\n",
       "      <td>1.000000</td>\n",
       "      <td>0.170000</td>\n",
       "      <td>0.000000</td>\n",
       "      <td>0.000000</td>\n",
       "      <td>0.000000</td>\n",
       "    </tr>\n",
       "    <tr>\n",
       "      <th>25%</th>\n",
       "      <td>996.250000</td>\n",
       "      <td>1.000000</td>\n",
       "      <td>23.000000</td>\n",
       "      <td>0.000000</td>\n",
       "      <td>0.000000</td>\n",
       "      <td>7.895800</td>\n",
       "    </tr>\n",
       "    <tr>\n",
       "      <th>50%</th>\n",
       "      <td>1100.500000</td>\n",
       "      <td>3.000000</td>\n",
       "      <td>27.000000</td>\n",
       "      <td>0.000000</td>\n",
       "      <td>0.000000</td>\n",
       "      <td>14.454200</td>\n",
       "    </tr>\n",
       "    <tr>\n",
       "      <th>75%</th>\n",
       "      <td>1204.750000</td>\n",
       "      <td>3.000000</td>\n",
       "      <td>35.750000</td>\n",
       "      <td>1.000000</td>\n",
       "      <td>0.000000</td>\n",
       "      <td>31.500000</td>\n",
       "    </tr>\n",
       "    <tr>\n",
       "      <th>max</th>\n",
       "      <td>1309.000000</td>\n",
       "      <td>3.000000</td>\n",
       "      <td>76.000000</td>\n",
       "      <td>8.000000</td>\n",
       "      <td>9.000000</td>\n",
       "      <td>512.329200</td>\n",
       "    </tr>\n",
       "  </tbody>\n",
       "</table>\n",
       "</div>"
      ],
      "text/plain": [
       "       PassengerId      Pclass         Age       SibSp       Parch        Fare\n",
       "count   418.000000  418.000000  418.000000  418.000000  418.000000  417.000000\n",
       "mean   1100.500000    2.265550   29.599282    0.447368    0.392344   35.627188\n",
       "std     120.810458    0.841838   12.703770    0.896760    0.981429   55.907576\n",
       "min     892.000000    1.000000    0.170000    0.000000    0.000000    0.000000\n",
       "25%     996.250000    1.000000   23.000000    0.000000    0.000000    7.895800\n",
       "50%    1100.500000    3.000000   27.000000    0.000000    0.000000   14.454200\n",
       "75%    1204.750000    3.000000   35.750000    1.000000    0.000000   31.500000\n",
       "max    1309.000000    3.000000   76.000000    8.000000    9.000000  512.329200"
      ]
     },
     "execution_count": 88,
     "metadata": {},
     "output_type": "execute_result"
    }
   ],
   "source": [
    "test.head()\n",
    "test.describe()"
   ]
  },
  {
   "cell_type": "code",
   "execution_count": 89,
   "id": "f7ab17b6",
   "metadata": {},
   "outputs": [],
   "source": [
    "test['Age'].fillna(test_median, inplace=True)"
   ]
  },
  {
   "cell_type": "code",
   "execution_count": 90,
   "id": "a6d6f11e",
   "metadata": {},
   "outputs": [
    {
     "data": {
      "text/html": [
       "<div>\n",
       "<style scoped>\n",
       "    .dataframe tbody tr th:only-of-type {\n",
       "        vertical-align: middle;\n",
       "    }\n",
       "\n",
       "    .dataframe tbody tr th {\n",
       "        vertical-align: top;\n",
       "    }\n",
       "\n",
       "    .dataframe thead th {\n",
       "        text-align: right;\n",
       "    }\n",
       "</style>\n",
       "<table border=\"1\" class=\"dataframe\">\n",
       "  <thead>\n",
       "    <tr style=\"text-align: right;\">\n",
       "      <th></th>\n",
       "      <th>PassengerId</th>\n",
       "      <th>Pclass</th>\n",
       "      <th>Age</th>\n",
       "      <th>SibSp</th>\n",
       "      <th>Parch</th>\n",
       "      <th>Fare</th>\n",
       "    </tr>\n",
       "  </thead>\n",
       "  <tbody>\n",
       "    <tr>\n",
       "      <th>count</th>\n",
       "      <td>418.000000</td>\n",
       "      <td>418.000000</td>\n",
       "      <td>418.000000</td>\n",
       "      <td>418.000000</td>\n",
       "      <td>418.000000</td>\n",
       "      <td>417.000000</td>\n",
       "    </tr>\n",
       "    <tr>\n",
       "      <th>mean</th>\n",
       "      <td>1100.500000</td>\n",
       "      <td>2.265550</td>\n",
       "      <td>29.599282</td>\n",
       "      <td>0.447368</td>\n",
       "      <td>0.392344</td>\n",
       "      <td>35.627188</td>\n",
       "    </tr>\n",
       "    <tr>\n",
       "      <th>std</th>\n",
       "      <td>120.810458</td>\n",
       "      <td>0.841838</td>\n",
       "      <td>12.703770</td>\n",
       "      <td>0.896760</td>\n",
       "      <td>0.981429</td>\n",
       "      <td>55.907576</td>\n",
       "    </tr>\n",
       "    <tr>\n",
       "      <th>min</th>\n",
       "      <td>892.000000</td>\n",
       "      <td>1.000000</td>\n",
       "      <td>0.170000</td>\n",
       "      <td>0.000000</td>\n",
       "      <td>0.000000</td>\n",
       "      <td>0.000000</td>\n",
       "    </tr>\n",
       "    <tr>\n",
       "      <th>25%</th>\n",
       "      <td>996.250000</td>\n",
       "      <td>1.000000</td>\n",
       "      <td>23.000000</td>\n",
       "      <td>0.000000</td>\n",
       "      <td>0.000000</td>\n",
       "      <td>7.895800</td>\n",
       "    </tr>\n",
       "    <tr>\n",
       "      <th>50%</th>\n",
       "      <td>1100.500000</td>\n",
       "      <td>3.000000</td>\n",
       "      <td>27.000000</td>\n",
       "      <td>0.000000</td>\n",
       "      <td>0.000000</td>\n",
       "      <td>14.454200</td>\n",
       "    </tr>\n",
       "    <tr>\n",
       "      <th>75%</th>\n",
       "      <td>1204.750000</td>\n",
       "      <td>3.000000</td>\n",
       "      <td>35.750000</td>\n",
       "      <td>1.000000</td>\n",
       "      <td>0.000000</td>\n",
       "      <td>31.500000</td>\n",
       "    </tr>\n",
       "    <tr>\n",
       "      <th>max</th>\n",
       "      <td>1309.000000</td>\n",
       "      <td>3.000000</td>\n",
       "      <td>76.000000</td>\n",
       "      <td>8.000000</td>\n",
       "      <td>9.000000</td>\n",
       "      <td>512.329200</td>\n",
       "    </tr>\n",
       "  </tbody>\n",
       "</table>\n",
       "</div>"
      ],
      "text/plain": [
       "       PassengerId      Pclass         Age       SibSp       Parch        Fare\n",
       "count   418.000000  418.000000  418.000000  418.000000  418.000000  417.000000\n",
       "mean   1100.500000    2.265550   29.599282    0.447368    0.392344   35.627188\n",
       "std     120.810458    0.841838   12.703770    0.896760    0.981429   55.907576\n",
       "min     892.000000    1.000000    0.170000    0.000000    0.000000    0.000000\n",
       "25%     996.250000    1.000000   23.000000    0.000000    0.000000    7.895800\n",
       "50%    1100.500000    3.000000   27.000000    0.000000    0.000000   14.454200\n",
       "75%    1204.750000    3.000000   35.750000    1.000000    0.000000   31.500000\n",
       "max    1309.000000    3.000000   76.000000    8.000000    9.000000  512.329200"
      ]
     },
     "execution_count": 90,
     "metadata": {},
     "output_type": "execute_result"
    }
   ],
   "source": [
    "test.describe()"
   ]
  },
  {
   "cell_type": "code",
   "execution_count": 91,
   "id": "ac9f620c",
   "metadata": {},
   "outputs": [
    {
     "name": "stdout",
     "output_type": "stream",
     "text": [
      "     PassengerId  Pclass                                   Name   Sex   Age  \\\n",
      "266         1158       1  Chisholm, Mr. Roderick Robert Crispin  male  27.0   \n",
      "372         1264       1                Ismay, Mr. Joseph Bruce  male  49.0   \n",
      "\n",
      "     SibSp  Parch  Ticket  Fare        Cabin Embarked  \n",
      "266      0      0  112051   0.0          NaN        S  \n",
      "372      0      0  112058   0.0  B52 B54 B56        S  \n"
     ]
    }
   ],
   "source": [
    "print(test[test.Fare == 0])"
   ]
  },
  {
   "cell_type": "code",
   "execution_count": 92,
   "id": "7d73348b",
   "metadata": {},
   "outputs": [
    {
     "data": {
      "text/html": [
       "<div>\n",
       "<style scoped>\n",
       "    .dataframe tbody tr th:only-of-type {\n",
       "        vertical-align: middle;\n",
       "    }\n",
       "\n",
       "    .dataframe tbody tr th {\n",
       "        vertical-align: top;\n",
       "    }\n",
       "\n",
       "    .dataframe thead th {\n",
       "        text-align: right;\n",
       "    }\n",
       "</style>\n",
       "<table border=\"1\" class=\"dataframe\">\n",
       "  <thead>\n",
       "    <tr style=\"text-align: right;\">\n",
       "      <th></th>\n",
       "      <th>PassengerId</th>\n",
       "      <th>Pclass</th>\n",
       "      <th>Age</th>\n",
       "      <th>SibSp</th>\n",
       "      <th>Parch</th>\n",
       "      <th>Fare</th>\n",
       "      <th>Master</th>\n",
       "      <th>Miss</th>\n",
       "      <th>Mr</th>\n",
       "      <th>Mrs</th>\n",
       "      <th>Other</th>\n",
       "      <th>female</th>\n",
       "      <th>male</th>\n",
       "    </tr>\n",
       "  </thead>\n",
       "  <tbody>\n",
       "    <tr>\n",
       "      <th>count</th>\n",
       "      <td>714.000000</td>\n",
       "      <td>714.000000</td>\n",
       "      <td>714.000000</td>\n",
       "      <td>714.000000</td>\n",
       "      <td>714.000000</td>\n",
       "      <td>714.000000</td>\n",
       "      <td>714.000000</td>\n",
       "      <td>714.000000</td>\n",
       "      <td>714.000000</td>\n",
       "      <td>714.000000</td>\n",
       "      <td>714.000000</td>\n",
       "      <td>714.000000</td>\n",
       "      <td>714.000000</td>\n",
       "    </tr>\n",
       "    <tr>\n",
       "      <th>mean</th>\n",
       "      <td>448.582633</td>\n",
       "      <td>2.236695</td>\n",
       "      <td>29.699118</td>\n",
       "      <td>0.512605</td>\n",
       "      <td>0.431373</td>\n",
       "      <td>34.694514</td>\n",
       "      <td>0.050420</td>\n",
       "      <td>0.204482</td>\n",
       "      <td>0.557423</td>\n",
       "      <td>0.151261</td>\n",
       "      <td>0.036415</td>\n",
       "      <td>0.365546</td>\n",
       "      <td>0.634454</td>\n",
       "    </tr>\n",
       "    <tr>\n",
       "      <th>std</th>\n",
       "      <td>259.119524</td>\n",
       "      <td>0.838250</td>\n",
       "      <td>14.526497</td>\n",
       "      <td>0.929783</td>\n",
       "      <td>0.853289</td>\n",
       "      <td>52.918930</td>\n",
       "      <td>0.218964</td>\n",
       "      <td>0.403605</td>\n",
       "      <td>0.497040</td>\n",
       "      <td>0.358554</td>\n",
       "      <td>0.187451</td>\n",
       "      <td>0.481921</td>\n",
       "      <td>0.481921</td>\n",
       "    </tr>\n",
       "    <tr>\n",
       "      <th>min</th>\n",
       "      <td>1.000000</td>\n",
       "      <td>1.000000</td>\n",
       "      <td>0.420000</td>\n",
       "      <td>0.000000</td>\n",
       "      <td>0.000000</td>\n",
       "      <td>0.000000</td>\n",
       "      <td>0.000000</td>\n",
       "      <td>0.000000</td>\n",
       "      <td>0.000000</td>\n",
       "      <td>0.000000</td>\n",
       "      <td>0.000000</td>\n",
       "      <td>0.000000</td>\n",
       "      <td>0.000000</td>\n",
       "    </tr>\n",
       "    <tr>\n",
       "      <th>25%</th>\n",
       "      <td>222.250000</td>\n",
       "      <td>1.000000</td>\n",
       "      <td>20.125000</td>\n",
       "      <td>0.000000</td>\n",
       "      <td>0.000000</td>\n",
       "      <td>8.050000</td>\n",
       "      <td>0.000000</td>\n",
       "      <td>0.000000</td>\n",
       "      <td>0.000000</td>\n",
       "      <td>0.000000</td>\n",
       "      <td>0.000000</td>\n",
       "      <td>0.000000</td>\n",
       "      <td>0.000000</td>\n",
       "    </tr>\n",
       "    <tr>\n",
       "      <th>50%</th>\n",
       "      <td>445.000000</td>\n",
       "      <td>2.000000</td>\n",
       "      <td>28.000000</td>\n",
       "      <td>0.000000</td>\n",
       "      <td>0.000000</td>\n",
       "      <td>15.741700</td>\n",
       "      <td>0.000000</td>\n",
       "      <td>0.000000</td>\n",
       "      <td>1.000000</td>\n",
       "      <td>0.000000</td>\n",
       "      <td>0.000000</td>\n",
       "      <td>0.000000</td>\n",
       "      <td>1.000000</td>\n",
       "    </tr>\n",
       "    <tr>\n",
       "      <th>75%</th>\n",
       "      <td>677.750000</td>\n",
       "      <td>3.000000</td>\n",
       "      <td>38.000000</td>\n",
       "      <td>1.000000</td>\n",
       "      <td>1.000000</td>\n",
       "      <td>33.375000</td>\n",
       "      <td>0.000000</td>\n",
       "      <td>0.000000</td>\n",
       "      <td>1.000000</td>\n",
       "      <td>0.000000</td>\n",
       "      <td>0.000000</td>\n",
       "      <td>1.000000</td>\n",
       "      <td>1.000000</td>\n",
       "    </tr>\n",
       "    <tr>\n",
       "      <th>max</th>\n",
       "      <td>891.000000</td>\n",
       "      <td>3.000000</td>\n",
       "      <td>80.000000</td>\n",
       "      <td>5.000000</td>\n",
       "      <td>6.000000</td>\n",
       "      <td>512.329200</td>\n",
       "      <td>1.000000</td>\n",
       "      <td>1.000000</td>\n",
       "      <td>1.000000</td>\n",
       "      <td>1.000000</td>\n",
       "      <td>1.000000</td>\n",
       "      <td>1.000000</td>\n",
       "      <td>1.000000</td>\n",
       "    </tr>\n",
       "  </tbody>\n",
       "</table>\n",
       "</div>"
      ],
      "text/plain": [
       "       PassengerId      Pclass         Age       SibSp       Parch  \\\n",
       "count   714.000000  714.000000  714.000000  714.000000  714.000000   \n",
       "mean    448.582633    2.236695   29.699118    0.512605    0.431373   \n",
       "std     259.119524    0.838250   14.526497    0.929783    0.853289   \n",
       "min       1.000000    1.000000    0.420000    0.000000    0.000000   \n",
       "25%     222.250000    1.000000   20.125000    0.000000    0.000000   \n",
       "50%     445.000000    2.000000   28.000000    0.000000    0.000000   \n",
       "75%     677.750000    3.000000   38.000000    1.000000    1.000000   \n",
       "max     891.000000    3.000000   80.000000    5.000000    6.000000   \n",
       "\n",
       "             Fare      Master        Miss          Mr         Mrs       Other  \\\n",
       "count  714.000000  714.000000  714.000000  714.000000  714.000000  714.000000   \n",
       "mean    34.694514    0.050420    0.204482    0.557423    0.151261    0.036415   \n",
       "std     52.918930    0.218964    0.403605    0.497040    0.358554    0.187451   \n",
       "min      0.000000    0.000000    0.000000    0.000000    0.000000    0.000000   \n",
       "25%      8.050000    0.000000    0.000000    0.000000    0.000000    0.000000   \n",
       "50%     15.741700    0.000000    0.000000    1.000000    0.000000    0.000000   \n",
       "75%     33.375000    0.000000    0.000000    1.000000    0.000000    0.000000   \n",
       "max    512.329200    1.000000    1.000000    1.000000    1.000000    1.000000   \n",
       "\n",
       "           female        male  \n",
       "count  714.000000  714.000000  \n",
       "mean     0.365546    0.634454  \n",
       "std      0.481921    0.481921  \n",
       "min      0.000000    0.000000  \n",
       "25%      0.000000    0.000000  \n",
       "50%      0.000000    1.000000  \n",
       "75%      1.000000    1.000000  \n",
       "max      1.000000    1.000000  "
      ]
     },
     "execution_count": 92,
     "metadata": {},
     "output_type": "execute_result"
    }
   ],
   "source": [
    "train_x.describe()"
   ]
  },
  {
   "cell_type": "code",
   "execution_count": null,
   "id": "2f3706e8",
   "metadata": {},
   "outputs": [],
   "source": []
  }
 ],
 "metadata": {
  "kernelspec": {
   "display_name": "Python 3 (ipykernel)",
   "language": "python",
   "name": "python3"
  },
  "language_info": {
   "codemirror_mode": {
    "name": "ipython",
    "version": 3
   },
   "file_extension": ".py",
   "mimetype": "text/x-python",
   "name": "python",
   "nbconvert_exporter": "python",
   "pygments_lexer": "ipython3",
   "version": "3.10.9"
  }
 },
 "nbformat": 4,
 "nbformat_minor": 5
}
